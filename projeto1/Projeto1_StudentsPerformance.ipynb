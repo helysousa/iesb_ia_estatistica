{
 "cells": [
  {
   "cell_type": "markdown",
   "id": "5ac945d6-7d8b-4775-b1c8-148e6df84a11",
   "metadata": {},
   "source": [
    "* Trabalho 01 \n",
    "\n",
    "Este trabalho deve ser obrigatoriamente desenvolvido utilizando o arquivo \"StudentsPerformance.csv\" fornecido em conjunto com este arquivo. Fonte: http://roycekimmons.com/tools/generated_data/exams\n",
    "\n",
    "O objetivo deste trabalho é treinar os alunos para que possam realizar uma análise exploratória simples. Uma análise exploratória consiste em analisar o conjunto de dados em busca de insights que possam nos fornecer informações valiosas a respeito de padrões ali existentes.\n",
    "\n",
    "Sua apresentação deve conter, no mínimo, as seguintes análises:\n",
    "- Cálculos de média, média aparada, média ponderada e mediana (justifique suas escolhas de cada parâmetro) para cada disciplina;\n",
    "- Cálculos de variância, desvio padrão e MAD de cada disciplina;\n",
    "- Exibição dos histogramas de cada disciplina;\n",
    "- Cálculo da matriz de correlação e exibição do respectivo mapa de calor de todas as disciplinas;\n",
    "- Visualização 3D das notas das disciplinas separadas por cada grupo de estudantes de acordo com \"gender\", \"race/ethnicity\", \"parental level of education\", \"lunch\" e \"test preparation course\". Para cada um desses parâmetros, realize uma única visualização (colocando os pontos de cada grupo em uma cor). Ao final, discorra se há algum padrão que pode ser detectado nessas análises; e\n",
    "- Escreva suas conclusões sobre o dataset e quais métricas você julga mais interessantes, ou seja, forneça informações úteis para a tomada de decisões de um diretor de escola.\n",
    "\n",
    "As análises acimas compõem os resultados mínimos esperados no trabalho, então sinta-se incentivado a realizar análises extras. Note que, de acordo com as análises extras que você decidir realizar, este trabalho introduz o conceito de variáveis categóricas (variáveis que assumem valores específicos, não contínuos - como palavras). Um link que pode vir a ser útil é o seguinte: https://medium.com/@outside2SDs/an-overview-of-correlation-measures-between-categorical-and-continuous-variables-4c7f85610365\n",
    "\n",
    "Não é permitido o uso de métodos nem funções prontos na linguagem Python que calculam diretamente os resultados (média, mediana, variância, desvio padrão, MAD e valores de correlação). Cálculos de quantidade de elementos e soma dos elementos podem sim ser realizados por meio de funções já fornecidas pela própria linguagem.\n",
    "\n",
    "Deverá ser montada uma apresentação de, no máximo, 10 minutos por grupo (cada grupo deve conter, no máximo, 3 pessoas). Essa apresentação deve conter apenas análises e resultados, não podendo ser apresentados trechos de código. Entretanto, o grupo deve ter o código disponível e pronto para execução caso o professor avaliador deseje esclarecimentos sobre alguma técnica ou trecho de código."
   ]
  },
  {
   "cell_type": "markdown",
   "id": "fff9b4ce-818b-4246-98b4-288b10887eb1",
   "metadata": {},
   "source": [
    "## Importação das bibliotecas"
   ]
  },
  {
   "cell_type": "code",
   "execution_count": 2,
   "id": "094e5c82-1654-4aea-af14-f962c07d1e9e",
   "metadata": {},
   "outputs": [],
   "source": [
    "import pandas as pd"
   ]
  },
  {
   "cell_type": "code",
   "execution_count": 3,
   "id": "fac83eb3-17d3-485e-bae9-52b80512ae2a",
   "metadata": {},
   "outputs": [
    {
     "data": {
      "text/html": [
       "<div>\n",
       "<style scoped>\n",
       "    .dataframe tbody tr th:only-of-type {\n",
       "        vertical-align: middle;\n",
       "    }\n",
       "\n",
       "    .dataframe tbody tr th {\n",
       "        vertical-align: top;\n",
       "    }\n",
       "\n",
       "    .dataframe thead th {\n",
       "        text-align: right;\n",
       "    }\n",
       "</style>\n",
       "<table border=\"1\" class=\"dataframe\">\n",
       "  <thead>\n",
       "    <tr style=\"text-align: right;\">\n",
       "      <th></th>\n",
       "      <th>gender</th>\n",
       "      <th>race/ethnicity</th>\n",
       "      <th>parental level of education</th>\n",
       "      <th>lunch</th>\n",
       "      <th>test preparation course</th>\n",
       "      <th>math score</th>\n",
       "      <th>reading score</th>\n",
       "      <th>writing score</th>\n",
       "    </tr>\n",
       "  </thead>\n",
       "  <tbody>\n",
       "    <tr>\n",
       "      <th>0</th>\n",
       "      <td>female</td>\n",
       "      <td>group B</td>\n",
       "      <td>bachelor's degree</td>\n",
       "      <td>standard</td>\n",
       "      <td>none</td>\n",
       "      <td>72</td>\n",
       "      <td>72</td>\n",
       "      <td>74</td>\n",
       "    </tr>\n",
       "    <tr>\n",
       "      <th>1</th>\n",
       "      <td>female</td>\n",
       "      <td>group C</td>\n",
       "      <td>some college</td>\n",
       "      <td>standard</td>\n",
       "      <td>completed</td>\n",
       "      <td>69</td>\n",
       "      <td>90</td>\n",
       "      <td>88</td>\n",
       "    </tr>\n",
       "    <tr>\n",
       "      <th>2</th>\n",
       "      <td>female</td>\n",
       "      <td>group B</td>\n",
       "      <td>master's degree</td>\n",
       "      <td>standard</td>\n",
       "      <td>none</td>\n",
       "      <td>90</td>\n",
       "      <td>95</td>\n",
       "      <td>93</td>\n",
       "    </tr>\n",
       "    <tr>\n",
       "      <th>3</th>\n",
       "      <td>male</td>\n",
       "      <td>group A</td>\n",
       "      <td>associate's degree</td>\n",
       "      <td>free/reduced</td>\n",
       "      <td>none</td>\n",
       "      <td>47</td>\n",
       "      <td>57</td>\n",
       "      <td>44</td>\n",
       "    </tr>\n",
       "    <tr>\n",
       "      <th>4</th>\n",
       "      <td>male</td>\n",
       "      <td>group C</td>\n",
       "      <td>some college</td>\n",
       "      <td>standard</td>\n",
       "      <td>none</td>\n",
       "      <td>76</td>\n",
       "      <td>78</td>\n",
       "      <td>75</td>\n",
       "    </tr>\n",
       "  </tbody>\n",
       "</table>\n",
       "</div>"
      ],
      "text/plain": [
       "   gender race/ethnicity parental level of education         lunch  \\\n",
       "0  female        group B           bachelor's degree      standard   \n",
       "1  female        group C                some college      standard   \n",
       "2  female        group B             master's degree      standard   \n",
       "3    male        group A          associate's degree  free/reduced   \n",
       "4    male        group C                some college      standard   \n",
       "\n",
       "  test preparation course  math score  reading score  writing score  \n",
       "0                    none          72             72             74  \n",
       "1               completed          69             90             88  \n",
       "2                    none          90             95             93  \n",
       "3                    none          47             57             44  \n",
       "4                    none          76             78             75  "
      ]
     },
     "execution_count": 3,
     "metadata": {},
     "output_type": "execute_result"
    }
   ],
   "source": [
    "# leitura dos dados do arquivo StudentsPerformance.csv\n",
    "\n",
    "df_students = pd.read_csv(\"dados\\StudentsPerformance.csv\")\n",
    "\n",
    "df_students.head()"
   ]
  },
  {
   "cell_type": "code",
   "execution_count": 14,
   "id": "58632ab5-fc82-4fef-8c0f-0048551e5b15",
   "metadata": {},
   "outputs": [],
   "source": [
    "# cálculo da média aritimética de uma lista **valores**\n",
    "# definição: a média aritimética é a soma dos valores dividido pela quantidade de valores individuais\n",
    "\n",
    "def media(valores):\n",
    "    soma = 0\n",
    "    quantidade = 0\n",
    "    for valor in valores:\n",
    "        soma += valor\n",
    "        quantidade += 1\n",
    "    return soma / quantidade"
   ]
  },
  {
   "cell_type": "code",
   "execution_count": 17,
   "id": "60524625-3fe7-46c0-9448-7d999fe12d66",
   "metadata": {},
   "outputs": [
    {
     "name": "stdout",
     "output_type": "stream",
     "text": [
      "66.089\n",
      "66.089\n"
     ]
    }
   ],
   "source": [
    "# testes\n",
    "print(media(list(df_students[\"math score\"])))\n",
    "print(df_students[\"math score\"].mean())"
   ]
  },
  {
   "cell_type": "code",
   "execution_count": null,
   "id": "677942bb-f72d-44af-b486-1912aec203a3",
   "metadata": {},
   "outputs": [],
   "source": []
  }
 ],
 "metadata": {
  "kernelspec": {
   "display_name": "Python 3",
   "language": "python",
   "name": "python3"
  },
  "language_info": {
   "codemirror_mode": {
    "name": "ipython",
    "version": 3
   },
   "file_extension": ".py",
   "mimetype": "text/x-python",
   "name": "python",
   "nbconvert_exporter": "python",
   "pygments_lexer": "ipython3",
   "version": "3.9.4"
  }
 },
 "nbformat": 4,
 "nbformat_minor": 5
}
